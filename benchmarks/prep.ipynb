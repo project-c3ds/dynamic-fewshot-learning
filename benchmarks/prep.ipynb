{
 "cells": [
  {
   "cell_type": "code",
   "execution_count": null,
   "id": "dc4b9e58",
   "metadata": {},
   "outputs": [],
   "source": [
    "import pandas as pd"
   ]
  },
  {
   "cell_type": "code",
   "execution_count": null,
   "id": "a37738ac",
   "metadata": {},
   "outputs": [],
   "source": [
    "from datasets import load_dataset"
   ]
  },
  {
   "cell_type": "code",
   "execution_count": null,
   "id": "8c929b12",
   "metadata": {},
   "outputs": [],
   "source": [
    "import json"
   ]
  },
  {
   "cell_type": "code",
   "execution_count": null,
   "id": "b6a14940",
   "metadata": {},
   "outputs": [],
   "source": [
    "from tqdm import tqdm\n",
    "tqdm.pandas()"
   ]
  },
  {
   "cell_type": "markdown",
   "id": "e8a7d2de",
   "metadata": {},
   "source": [
    "### "
   ]
  },
  {
   "cell_type": "markdown",
   "id": "c883c6a9",
   "metadata": {},
   "source": [
    "### Exid"
   ]
  },
  {
   "cell_type": "code",
   "execution_count": null,
   "id": "93f9626e",
   "metadata": {},
   "outputs": [],
   "source": [
    "df = pd.read_csv('data/exid/exid_seed_list_sample_data_for_validation STEPH.csv')"
   ]
  },
  {
   "cell_type": "code",
   "execution_count": null,
   "id": "cce309e0",
   "metadata": {},
   "outputs": [],
   "source": [
    "df = df.rename(columns={'StephPredict':'label'})"
   ]
  },
  {
   "cell_type": "code",
   "execution_count": null,
   "id": "13420860",
   "metadata": {},
   "outputs": [],
   "source": [
    "df = df[['text','label']]"
   ]
  },
  {
   "cell_type": "code",
   "execution_count": null,
   "id": "f0179467",
   "metadata": {},
   "outputs": [],
   "source": [
    "df = df[~df.label.isna()]"
   ]
  },
  {
   "cell_type": "code",
   "execution_count": null,
   "id": "ed5f47dc",
   "metadata": {},
   "outputs": [],
   "source": [
    "from sklearn.model_selection import train_test_split\n",
    "\n",
    "# Assuming you have a DataFrame `df` with columns 'text' and 'label'\n",
    "\n",
    "X = df['text']  # Features\n",
    "y = df['label']  # Labels\n",
    "\n",
    "# Perform stratified random split\n",
    "X_train, X_test, y_train, y_test = train_test_split(X, y, test_size=0.2, stratify=y, random_state=42)\n",
    "\n",
    "# Create new DataFrames for training and testing\n",
    "df_test = pd.DataFrame({'text': X_train, 'label': y_train})\n",
    "df_fewshot  = pd.DataFrame({'text': X_test, 'label': y_test})\n",
    "\n",
    "# Return the training and testing DataFrames\n"
   ]
  },
  {
   "cell_type": "code",
   "execution_count": null,
   "id": "a27af563",
   "metadata": {},
   "outputs": [],
   "source": [
    "df_fewshot = df_fewshot.groupby('label').sample(30, random_state=123).sample(frac=1)"
   ]
  },
  {
   "cell_type": "code",
   "execution_count": null,
   "id": "a71af1c6",
   "metadata": {},
   "outputs": [],
   "source": [
    "df_fewshot.to_csv('data/exid/fewshot.csv', index=False)"
   ]
  },
  {
   "cell_type": "code",
   "execution_count": null,
   "id": "08b67404",
   "metadata": {},
   "outputs": [],
   "source": [
    "df_test = df_test[~df_test.text.isna()]"
   ]
  },
  {
   "cell_type": "code",
   "execution_count": null,
   "id": "c57f9ed5",
   "metadata": {},
   "outputs": [],
   "source": [
    "df_test.to_csv('data/exid/test.csv', index=False)"
   ]
  },
  {
   "cell_type": "code",
   "execution_count": null,
   "id": "403c49bc",
   "metadata": {},
   "outputs": [],
   "source": [
    "df_test.text.str.split(' ').map(len).describe()"
   ]
  },
  {
   "cell_type": "code",
   "execution_count": null,
   "id": "fa689d41",
   "metadata": {},
   "outputs": [],
   "source": []
  },
  {
   "cell_type": "markdown",
   "id": "c3e814d6",
   "metadata": {},
   "source": [
    "### Vaccine"
   ]
  },
  {
   "cell_type": "code",
   "execution_count": null,
   "id": "8e828b58",
   "metadata": {},
   "outputs": [],
   "source": [
    "df = pd.read_csv('data/vaccine/cotfas_data.csv')"
   ]
  },
  {
   "cell_type": "code",
   "execution_count": null,
   "id": "70bffc2a",
   "metadata": {},
   "outputs": [],
   "source": [
    "df.columns = ['id_','text','label']"
   ]
  },
  {
   "cell_type": "code",
   "execution_count": null,
   "id": "bb71f135",
   "metadata": {},
   "outputs": [],
   "source": [
    "from sklearn.model_selection import train_test_split\n",
    "\n",
    "# Assuming you have a DataFrame `df` with columns 'text' and 'label'\n",
    "\n",
    "X = df['text']  # Features\n",
    "y = df['label']  # Labels\n",
    "\n",
    "# Perform stratified random split\n",
    "X_train, X_test, y_train, y_test = train_test_split(X, y, test_size=0.2, stratify=y, random_state=42)\n",
    "\n",
    "# Create new DataFrames for training and testing\n",
    "df_train = pd.DataFrame({'text': X_train, 'label': y_train})\n",
    "df_test  = pd.DataFrame({'text': X_test, 'label': y_test})\n",
    "\n",
    "# Return the training and testing DataFrames\n"
   ]
  },
  {
   "cell_type": "code",
   "execution_count": null,
   "id": "dee9aa99",
   "metadata": {},
   "outputs": [],
   "source": [
    "df_test"
   ]
  },
  {
   "cell_type": "code",
   "execution_count": null,
   "id": "dff5ab72",
   "metadata": {},
   "outputs": [],
   "source": [
    "df_fewshot = df_train.groupby('label').sample(30, random_state=456)"
   ]
  },
  {
   "cell_type": "code",
   "execution_count": null,
   "id": "b959f3be",
   "metadata": {},
   "outputs": [],
   "source": [
    "df_fewshot.to_csv('data/vaccine/fewshot.csv', index=False)"
   ]
  },
  {
   "cell_type": "code",
   "execution_count": null,
   "id": "894c212e",
   "metadata": {},
   "outputs": [],
   "source": [
    "X = df_test['text']  # Features\n",
    "y = df_test['label']  # Labels\n",
    "\n",
    "# Perform stratified random split\n",
    "X_train, X_test, y_train, y_test = train_test_split(X, y, test_size=0.2, stratify=y, random_state=42)\n",
    "\n",
    "# Create new DataFrames for training and testing\n",
    "df_test_ = pd.DataFrame({'text': X_test, 'label': y_test})"
   ]
  },
  {
   "cell_type": "code",
   "execution_count": null,
   "id": "9e46d43f",
   "metadata": {},
   "outputs": [],
   "source": [
    "df_test_.label.value_counts()"
   ]
  },
  {
   "cell_type": "code",
   "execution_count": null,
   "id": "959761cf",
   "metadata": {},
   "outputs": [],
   "source": [
    "df_test_.to_csv('data/vaccine/test.csv', index=False)"
   ]
  },
  {
   "cell_type": "code",
   "execution_count": null,
   "id": "a4aecce2",
   "metadata": {},
   "outputs": [],
   "source": [
    "df_test_.label.unique()"
   ]
  },
  {
   "cell_type": "markdown",
   "id": "eb2a67fd",
   "metadata": {},
   "source": [
    "### Ideology"
   ]
  },
  {
   "cell_type": "code",
   "execution_count": null,
   "id": "b61fa34e",
   "metadata": {},
   "outputs": [],
   "source": [
    "with open('data/ideology/ibc.json','r') as f:\n",
    "    test_data = json.load(f)"
   ]
  },
  {
   "cell_type": "code",
   "execution_count": null,
   "id": "9766b1bc",
   "metadata": {},
   "outputs": [],
   "source": [
    "df_test = pd.DataFrame(test_data)"
   ]
  },
  {
   "cell_type": "code",
   "execution_count": null,
   "id": "127eff9b",
   "metadata": {},
   "outputs": [],
   "source": [
    "df_train = pd.read_csv('data/ideology/ibc.csv')"
   ]
  },
  {
   "cell_type": "code",
   "execution_count": null,
   "id": "cc21b506",
   "metadata": {},
   "outputs": [],
   "source": [
    "df_train.shape"
   ]
  },
  {
   "cell_type": "code",
   "execution_count": null,
   "id": "c54777a2",
   "metadata": {},
   "outputs": [],
   "source": [
    "df_train"
   ]
  },
  {
   "cell_type": "code",
   "execution_count": null,
   "id": "dacad2e0",
   "metadata": {},
   "outputs": [],
   "source": [
    "df_train = df_train[~df_train.sentence.isin(df_test.context.unique())]"
   ]
  },
  {
   "cell_type": "code",
   "execution_count": null,
   "id": "08f19b96",
   "metadata": {},
   "outputs": [],
   "source": [
    "df_fewshot = df_train.groupby('leaning').sample(30, random_state=456)"
   ]
  },
  {
   "cell_type": "code",
   "execution_count": null,
   "id": "9fb7e328",
   "metadata": {},
   "outputs": [],
   "source": [
    "df_fewshot.columns = ['text','label']"
   ]
  },
  {
   "cell_type": "code",
   "execution_count": null,
   "id": "e73a7a35",
   "metadata": {},
   "outputs": [],
   "source": [
    "df_fewshot"
   ]
  },
  {
   "cell_type": "code",
   "execution_count": null,
   "id": "2cdc4fa7",
   "metadata": {},
   "outputs": [],
   "source": [
    "df_fewshot.to_csv('data/ideology/fewshot.csv', index=False)"
   ]
  },
  {
   "cell_type": "code",
   "execution_count": null,
   "id": "b6f1e4bc",
   "metadata": {},
   "outputs": [],
   "source": [
    "df_test.columns = ['text','label','prompt']"
   ]
  },
  {
   "cell_type": "code",
   "execution_count": null,
   "id": "96b38965",
   "metadata": {},
   "outputs": [],
   "source": [
    "df_test"
   ]
  },
  {
   "cell_type": "code",
   "execution_count": null,
   "id": "2a823600",
   "metadata": {},
   "outputs": [],
   "source": [
    "df_test.to_csv('data/ideology/test.csv', index=False)"
   ]
  },
  {
   "cell_type": "code",
   "execution_count": null,
   "id": "826c5d22",
   "metadata": {},
   "outputs": [],
   "source": [
    "df_test"
   ]
  },
  {
   "cell_type": "code",
   "execution_count": null,
   "id": "6fad5eaf",
   "metadata": {},
   "outputs": [],
   "source": [
    "df_test = df_test.reset_index(drop=True)"
   ]
  },
  {
   "cell_type": "code",
   "execution_count": null,
   "id": "eb93192a",
   "metadata": {},
   "outputs": [],
   "source": [
    "df_test.label.unique()"
   ]
  },
  {
   "cell_type": "code",
   "execution_count": null,
   "id": "37c0c454",
   "metadata": {},
   "outputs": [],
   "source": [
    "df_fewshot.label.unique()"
   ]
  },
  {
   "cell_type": "code",
   "execution_count": null,
   "id": "3bd7c2a9",
   "metadata": {},
   "outputs": [],
   "source": [
    "def get_tokens(text):\n",
    "    return len(text.split(' '))"
   ]
  },
  {
   "cell_type": "code",
   "execution_count": null,
   "id": "53ebe493",
   "metadata": {},
   "outputs": [],
   "source": [
    "df_fewshot.text.map(get_tokens).describe()"
   ]
  },
  {
   "cell_type": "code",
   "execution_count": null,
   "id": "8055fbc5",
   "metadata": {},
   "outputs": [],
   "source": [
    "print(df_test.prompt[0])"
   ]
  },
  {
   "cell_type": "code",
   "execution_count": null,
   "id": "71bd5286",
   "metadata": {},
   "outputs": [],
   "source": []
  },
  {
   "cell_type": "code",
   "execution_count": null,
   "id": "1e4ccff4",
   "metadata": {},
   "outputs": [],
   "source": []
  },
  {
   "cell_type": "markdown",
   "id": "66bd17c5",
   "metadata": {},
   "source": [
    "### Stance"
   ]
  },
  {
   "cell_type": "code",
   "execution_count": null,
   "id": "0cc931c6",
   "metadata": {},
   "outputs": [],
   "source": [
    "with open('data/stance/stance.json','r') as f:\n",
    "    train_data = json.load(f)"
   ]
  },
  {
   "cell_type": "code",
   "execution_count": null,
   "id": "47c38aba",
   "metadata": {},
   "outputs": [],
   "source": [
    "df = pd.DataFrame(train_data)"
   ]
  },
  {
   "cell_type": "code",
   "execution_count": null,
   "id": "698aa38a",
   "metadata": {},
   "outputs": [],
   "source": [
    "df.columns = ['text','label','prompt']"
   ]
  },
  {
   "cell_type": "code",
   "execution_count": null,
   "id": "a5a5c333",
   "metadata": {},
   "outputs": [],
   "source": [
    "from sklearn.model_selection import train_test_split\n",
    "\n",
    "# Assuming you have a DataFrame `df` with columns 'text' and 'label'\n",
    "\n",
    "X = df['text']  # Features\n",
    "y = df['label']  # Labels\n",
    "\n",
    "# Perform stratified random split\n",
    "X_train, X_test, y_train, y_test = train_test_split(X, y, test_size=0.1, stratify=y, random_state=42)\n",
    "\n",
    "# Create new DataFrames for training and testing\n",
    "df_test = pd.DataFrame({'text': X_train, 'label': y_train})\n",
    "df_fewshot = pd.DataFrame({'text': X_test, 'label': y_test})\n",
    "\n",
    "# Return the training and testing DataFrames\n"
   ]
  },
  {
   "cell_type": "code",
   "execution_count": null,
   "id": "c5b58ceb",
   "metadata": {},
   "outputs": [],
   "source": [
    "df_fewshot.to_csv('data/stance/fewshot.csv', index=False)"
   ]
  },
  {
   "cell_type": "code",
   "execution_count": null,
   "id": "c1ac19cf",
   "metadata": {},
   "outputs": [],
   "source": [
    "df_test.to_csv('data/stance/test.csv', index=False)"
   ]
  },
  {
   "cell_type": "code",
   "execution_count": null,
   "id": "ecaf7537",
   "metadata": {},
   "outputs": [],
   "source": [
    "df_test.label.unique()"
   ]
  },
  {
   "cell_type": "code",
   "execution_count": null,
   "id": "94ceeed0",
   "metadata": {},
   "outputs": [],
   "source": [
    "df_fewshot.label.unique()"
   ]
  },
  {
   "cell_type": "code",
   "execution_count": null,
   "id": "bc74bb1f",
   "metadata": {},
   "outputs": [],
   "source": [
    "print(df.prompt[0])"
   ]
  },
  {
   "cell_type": "markdown",
   "id": "11e20b3b",
   "metadata": {},
   "source": [
    "### Persuasion"
   ]
  },
  {
   "cell_type": "code",
   "execution_count": null,
   "id": "5fe2a630",
   "metadata": {},
   "outputs": [],
   "source": [
    "with open('data/persuasion/persuasion.json','r') as f:\n",
    "    train_data = json.load(f)"
   ]
  },
  {
   "cell_type": "code",
   "execution_count": null,
   "id": "f8ad1fcf",
   "metadata": {},
   "outputs": [],
   "source": [
    "df = pd.DataFrame(train_data)"
   ]
  },
  {
   "cell_type": "code",
   "execution_count": null,
   "id": "3af0f173",
   "metadata": {},
   "outputs": [],
   "source": [
    "df"
   ]
  },
  {
   "cell_type": "markdown",
   "id": "d7e3ec22",
   "metadata": {},
   "source": [
    "### Misinfo"
   ]
  },
  {
   "cell_type": "code",
   "execution_count": null,
   "id": "643c2cee",
   "metadata": {},
   "outputs": [],
   "source": [
    "with open('data/misinfo/test-classification.json','r') as f:\n",
    "    train_data = json.load(f)"
   ]
  },
  {
   "cell_type": "code",
   "execution_count": null,
   "id": "a20e732c",
   "metadata": {},
   "outputs": [],
   "source": [
    "df_test = pd.DataFrame(train_data)"
   ]
  },
  {
   "cell_type": "code",
   "execution_count": null,
   "id": "2d048f62",
   "metadata": {},
   "outputs": [],
   "source": [
    "df = pd.read_csv('data/misinfo/mrf.csv')"
   ]
  },
  {
   "cell_type": "code",
   "execution_count": null,
   "id": "e777919e",
   "metadata": {},
   "outputs": [],
   "source": [
    "df.gold_label.unique()"
   ]
  },
  {
   "cell_type": "code",
   "execution_count": null,
   "id": "ad5cd187",
   "metadata": {},
   "outputs": [],
   "source": [
    "df_train = df[~df.headline.isin(df_test.context.unique())]"
   ]
  },
  {
   "cell_type": "code",
   "execution_count": null,
   "id": "43296383",
   "metadata": {},
   "outputs": [],
   "source": [
    "df_fewshot = df_train.groupby('gold_label').sample(30, random_state=456)"
   ]
  },
  {
   "cell_type": "code",
   "execution_count": null,
   "id": "427b31ba",
   "metadata": {},
   "outputs": [],
   "source": [
    "df_fewshot = df_fewshot[['headline','gold_label']]"
   ]
  },
  {
   "cell_type": "code",
   "execution_count": null,
   "id": "06aea17a",
   "metadata": {},
   "outputs": [],
   "source": [
    "df_fewshot.columns = ['text','label']"
   ]
  },
  {
   "cell_type": "code",
   "execution_count": null,
   "id": "809f884f",
   "metadata": {},
   "outputs": [],
   "source": [
    "df_fewshot.to_csv('data/misinfo/fewshot.csv', index=False)"
   ]
  },
  {
   "cell_type": "code",
   "execution_count": null,
   "id": "fe0cc9dc",
   "metadata": {},
   "outputs": [],
   "source": [
    "df_test.columns = ['text','label','prompt']"
   ]
  },
  {
   "cell_type": "code",
   "execution_count": null,
   "id": "ddce4231",
   "metadata": {},
   "outputs": [],
   "source": [
    "df_test.to_csv('data/misinfo/test.csv', index=False)"
   ]
  },
  {
   "cell_type": "code",
   "execution_count": null,
   "id": "4eb22670",
   "metadata": {},
   "outputs": [],
   "source": [
    "df_test.label.unique()"
   ]
  },
  {
   "cell_type": "code",
   "execution_count": null,
   "id": "1b5941e5",
   "metadata": {},
   "outputs": [],
   "source": [
    "df_fewshot.label.unique()"
   ]
  },
  {
   "cell_type": "code",
   "execution_count": null,
   "id": "a5da7c32",
   "metadata": {},
   "outputs": [],
   "source": [
    "df_fewshot.label = df_fewshot.label.map({'misinfo':'Misinformation','real':'Trustworthy'})"
   ]
  },
  {
   "cell_type": "code",
   "execution_count": null,
   "id": "210391cc",
   "metadata": {},
   "outputs": [],
   "source": [
    "df_fewshot.to_csv('data/misinfo/fewshot.csv')"
   ]
  },
  {
   "cell_type": "markdown",
   "id": "69d9cdb7",
   "metadata": {},
   "source": [
    "### Hate"
   ]
  },
  {
   "cell_type": "code",
   "execution_count": null,
   "id": "895de787",
   "metadata": {},
   "outputs": [],
   "source": [
    "with open('data/hate/implicit.json','r') as f:\n",
    "    train_data = json.load(f)"
   ]
  },
  {
   "cell_type": "code",
   "execution_count": null,
   "id": "c1821d44",
   "metadata": {},
   "outputs": [],
   "source": [
    "df = pd.DataFrame(train_data)"
   ]
  },
  {
   "cell_type": "code",
   "execution_count": null,
   "id": "ed996df3",
   "metadata": {},
   "outputs": [],
   "source": [
    "df.columns = ['text','label','prompt']"
   ]
  },
  {
   "cell_type": "code",
   "execution_count": null,
   "id": "25af3260",
   "metadata": {},
   "outputs": [],
   "source": [
    "from sklearn.model_selection import train_test_split\n",
    "\n",
    "# Assuming you have a DataFrame `df` with columns 'text' and 'label'\n",
    "\n",
    "X = df['text']  # Features\n",
    "y = df['label']  # Labels\n",
    "\n",
    "# Perform stratified random split\n",
    "X_train, X_test, y_train, y_test = train_test_split(X, y, test_size=0.1, stratify=y, random_state=42)\n",
    "\n",
    "# Create new DataFrames for training and testing\n",
    "df_test = pd.DataFrame({'text': X_train, 'label': y_train})\n",
    "df_fewshot = pd.DataFrame({'text': X_test, 'label': y_test})\n",
    "\n",
    "# Return the training and testing DataFrames\n"
   ]
  },
  {
   "cell_type": "code",
   "execution_count": null,
   "id": "3f2666d8",
   "metadata": {},
   "outputs": [],
   "source": [
    "df_test.label = df_test.label.map({\n",
    "  'threatening': 'Threatening and Intimidation',\n",
    "  'stereotypical': 'Stereotypes and Misinformation',\n",
    "  'white_grievance': 'White Grievance',\n",
    "  'incitement': 'Incitement to Violence',\n",
    "  'irony': 'Irony',\n",
    "  'inferiority': 'Inferiority Language'\n",
    "}\n",
    ")"
   ]
  },
  {
   "cell_type": "code",
   "execution_count": null,
   "id": "f54f93ee",
   "metadata": {},
   "outputs": [],
   "source": [
    "df_fewshot.label = df_fewshot.label.map({\n",
    "  'threatening': 'Threatening and Intimidation',\n",
    "  'stereotypical': 'Stereotypes and Misinformation',\n",
    "  'white_grievance': 'White Grievance',\n",
    "  'incitement': 'Incitement to Violence',\n",
    "  'irony': 'Irony',\n",
    "  'inferiority': 'Inferiority Language'\n",
    "}\n",
    ")"
   ]
  },
  {
   "cell_type": "code",
   "execution_count": null,
   "id": "4334dace",
   "metadata": {},
   "outputs": [],
   "source": [
    "df_test.label.unique()"
   ]
  },
  {
   "cell_type": "code",
   "execution_count": null,
   "id": "3f74c5b4",
   "metadata": {},
   "outputs": [],
   "source": [
    "df_fewshot.label.unique()"
   ]
  },
  {
   "cell_type": "code",
   "execution_count": null,
   "id": "fd528623",
   "metadata": {},
   "outputs": [],
   "source": [
    "df_test.to_csv('data/hate/test.csv',index=False)"
   ]
  },
  {
   "cell_type": "code",
   "execution_count": null,
   "id": "30f62829",
   "metadata": {},
   "outputs": [],
   "source": [
    "df_fewshot.to_csv('data/hate/fewshot.csv', index=False)"
   ]
  },
  {
   "cell_type": "code",
   "execution_count": null,
   "id": "7d5eb751",
   "metadata": {
    "scrolled": true
   },
   "outputs": [],
   "source": [
    "print(df.prompt[485])"
   ]
  },
  {
   "cell_type": "code",
   "execution_count": null,
   "id": "f56344a5",
   "metadata": {},
   "outputs": [],
   "source": []
  },
  {
   "cell_type": "markdown",
   "id": "886904f9",
   "metadata": {},
   "source": [
    "### Humor"
   ]
  },
  {
   "cell_type": "code",
   "execution_count": null,
   "id": "58bf2fd1",
   "metadata": {},
   "outputs": [],
   "source": [
    "with open('data/humor/humor.json','r') as f:\n",
    "    train_data = json.load(f)"
   ]
  },
  {
   "cell_type": "code",
   "execution_count": null,
   "id": "f6a642a1",
   "metadata": {},
   "outputs": [],
   "source": [
    "df_test = pd.DataFrame(train_data)"
   ]
  },
  {
   "cell_type": "code",
   "execution_count": null,
   "id": "38a26d28",
   "metadata": {},
   "outputs": [],
   "source": [
    "df = pd.read_csv('data/humor/train.tsv', sep=',', header=None)"
   ]
  },
  {
   "cell_type": "code",
   "execution_count": null,
   "id": "76c4f153",
   "metadata": {},
   "outputs": [],
   "source": [
    "df.columns = ['r','label','a','text']"
   ]
  },
  {
   "cell_type": "code",
   "execution_count": null,
   "id": "ba46b294",
   "metadata": {},
   "outputs": [],
   "source": [
    "df = df[['text','label']]"
   ]
  },
  {
   "cell_type": "code",
   "execution_count": null,
   "id": "4dd38eba",
   "metadata": {},
   "outputs": [],
   "source": []
  },
  {
   "cell_type": "code",
   "execution_count": null,
   "id": "4e095c04",
   "metadata": {},
   "outputs": [],
   "source": [
    "df_fewshot = df.groupby('label').sample(30, random_state=123)"
   ]
  },
  {
   "cell_type": "code",
   "execution_count": null,
   "id": "83c0ea75",
   "metadata": {},
   "outputs": [],
   "source": [
    "df_fewshot.label = df_fewshot.label.map({0:'False',1:'True'})"
   ]
  },
  {
   "cell_type": "code",
   "execution_count": null,
   "id": "0c856ab4",
   "metadata": {},
   "outputs": [],
   "source": [
    "df_test.columns = ['text','label','prompt']"
   ]
  },
  {
   "cell_type": "code",
   "execution_count": null,
   "id": "5df12fae",
   "metadata": {},
   "outputs": [],
   "source": [
    "df_test.prompt[0]"
   ]
  },
  {
   "cell_type": "code",
   "execution_count": null,
   "id": "6064ed6b",
   "metadata": {},
   "outputs": [],
   "source": [
    "df_fewshot.label.unique()"
   ]
  },
  {
   "cell_type": "code",
   "execution_count": null,
   "id": "4a08247f",
   "metadata": {},
   "outputs": [],
   "source": [
    "df_test.label = df_test.label.astype(str)"
   ]
  },
  {
   "cell_type": "code",
   "execution_count": null,
   "id": "1065e00b",
   "metadata": {},
   "outputs": [],
   "source": [
    "df_test.to_csv('data/humor/test.csv', index=False)"
   ]
  },
  {
   "cell_type": "code",
   "execution_count": null,
   "id": "74793269",
   "metadata": {},
   "outputs": [],
   "source": [
    "df_fewshot.to_csv('data/humor/fewshot.csv', index=False)"
   ]
  },
  {
   "cell_type": "code",
   "execution_count": null,
   "id": "9de296e2",
   "metadata": {},
   "outputs": [],
   "source": [
    "df_fewshot"
   ]
  },
  {
   "cell_type": "markdown",
   "id": "40e47774",
   "metadata": {},
   "source": [
    "### Indian Dialects"
   ]
  },
  {
   "cell_type": "code",
   "execution_count": null,
   "id": "ec385c0f",
   "metadata": {},
   "outputs": [],
   "source": [
    "with open('data/dialects/test.json','r') as f:\n",
    "    train_data = json.load(f)"
   ]
  },
  {
   "cell_type": "code",
   "execution_count": null,
   "id": "da9fe852",
   "metadata": {},
   "outputs": [],
   "source": [
    "df_prompts = pd.DataFrame(train_data).sort_values('context')"
   ]
  },
  {
   "cell_type": "code",
   "execution_count": null,
   "id": "8c9f3212",
   "metadata": {},
   "outputs": [],
   "source": [
    "print(df_prompts.prompts[0])"
   ]
  },
  {
   "cell_type": "code",
   "execution_count": null,
   "id": "5e48e4fe",
   "metadata": {},
   "outputs": [],
   "source": []
  },
  {
   "cell_type": "code",
   "execution_count": null,
   "id": "5e5691bd",
   "metadata": {},
   "outputs": [],
   "source": [
    "df = pd.read_csv('data/dialects/indian_english_dialect.csv')"
   ]
  },
  {
   "cell_type": "code",
   "execution_count": null,
   "id": "06caa0f7",
   "metadata": {},
   "outputs": [],
   "source": [
    "df.columns = ['text','label']"
   ]
  },
  {
   "cell_type": "code",
   "execution_count": null,
   "id": "b972abcc",
   "metadata": {},
   "outputs": [],
   "source": [
    "from sklearn.model_selection import train_test_split\n",
    "\n",
    "# Assuming you have a DataFrame `df` with columns 'text' and 'label'\n",
    "\n",
    "X = df['text']  # Features\n",
    "y = df['label']  # Labels\n",
    "\n",
    "# Perform stratified random split\n",
    "X_train, X_test, y_train, y_test = train_test_split(X, y, test_size=0.1, stratify=y, random_state=42)\n",
    "\n",
    "# Create new DataFrames for training and testing\n",
    "df_test = pd.DataFrame({'text': X_train, 'label': y_train})\n",
    "df_fewshot = pd.DataFrame({'text': X_test, 'label': y_test})\n",
    "\n",
    "# Return the training and testing DataFrames\n"
   ]
  },
  {
   "cell_type": "code",
   "execution_count": null,
   "id": "c2ab08ce",
   "metadata": {},
   "outputs": [],
   "source": [
    "df_test.to_csv('data/dialects/test.csv', index=False)"
   ]
  },
  {
   "cell_type": "code",
   "execution_count": null,
   "id": "a0de21b4",
   "metadata": {
    "scrolled": true
   },
   "outputs": [],
   "source": [
    "df_fewshot.to_csv('data/dialects/fewshot.csv', index=False)"
   ]
  },
  {
   "cell_type": "code",
   "execution_count": null,
   "id": "088de0cd",
   "metadata": {},
   "outputs": [],
   "source": [
    "df_fewshot.label.value_counts()"
   ]
  },
  {
   "cell_type": "code",
   "execution_count": null,
   "id": "0bdb9ee2",
   "metadata": {},
   "outputs": [],
   "source": [
    "df.drop_duplicates(subset=['text'])"
   ]
  },
  {
   "cell_type": "code",
   "execution_count": null,
   "id": "92588b0f",
   "metadata": {},
   "outputs": [],
   "source": [
    "df.label.value_counts()"
   ]
  },
  {
   "cell_type": "markdown",
   "id": "a632cf71",
   "metadata": {},
   "source": [
    "### FLUTE"
   ]
  },
  {
   "cell_type": "code",
   "execution_count": null,
   "id": "a245fe82",
   "metadata": {},
   "outputs": [],
   "source": [
    "with open('data/flute/flute-classification-train.json','r') as f:\n",
    "    train_data = json.load(f)"
   ]
  },
  {
   "cell_type": "code",
   "execution_count": null,
   "id": "056f6894",
   "metadata": {},
   "outputs": [],
   "source": [
    "df_train = pd.DataFrame(train_data)"
   ]
  },
  {
   "cell_type": "code",
   "execution_count": null,
   "id": "44f4304e",
   "metadata": {},
   "outputs": [],
   "source": [
    "df_train.columns = ['text','label','prompt']"
   ]
  },
  {
   "cell_type": "code",
   "execution_count": null,
   "id": "87fd75b2",
   "metadata": {},
   "outputs": [],
   "source": [
    "with open('data/flute/flute_test.json','r') as f:\n",
    "    test_data = json.load(f)"
   ]
  },
  {
   "cell_type": "code",
   "execution_count": null,
   "id": "6a646e06",
   "metadata": {},
   "outputs": [],
   "source": [
    "df_test = pd.DataFrame(test_data)"
   ]
  },
  {
   "cell_type": "code",
   "execution_count": null,
   "id": "877224a0",
   "metadata": {},
   "outputs": [],
   "source": [
    "df_test.columns = ['text','label','prompt']"
   ]
  },
  {
   "cell_type": "code",
   "execution_count": null,
   "id": "8a053bf9",
   "metadata": {},
   "outputs": [],
   "source": [
    "df_train = df_train[~df_train.text.isin(df_test.text.unique())]"
   ]
  },
  {
   "cell_type": "code",
   "execution_count": null,
   "id": "7ca07a09",
   "metadata": {},
   "outputs": [],
   "source": [
    "df_fewshot = df_train.groupby('label').sample(30, random_state=456)"
   ]
  },
  {
   "cell_type": "code",
   "execution_count": null,
   "id": "0266fb23",
   "metadata": {},
   "outputs": [],
   "source": [
    "df_fewshot.to_csv('data/flute/fewshot.csv', index=False)"
   ]
  },
  {
   "cell_type": "code",
   "execution_count": null,
   "id": "7a529fb2",
   "metadata": {},
   "outputs": [],
   "source": [
    "df_test.to_csv('data/flute/test.csv', index=False)"
   ]
  },
  {
   "cell_type": "markdown",
   "id": "ef6fc9c6",
   "metadata": {},
   "source": [
    "### Emotion "
   ]
  },
  {
   "cell_type": "code",
   "execution_count": null,
   "id": "f419c612",
   "metadata": {},
   "outputs": [],
   "source": [
    "with open('benchmarks/data/emotion_classification_test.json','r') as f:\n",
    "    json_data = json.load(f)"
   ]
  },
  {
   "cell_type": "code",
   "execution_count": null,
   "id": "155aa7ac",
   "metadata": {
    "scrolled": true
   },
   "outputs": [],
   "source": [
    "df_fewshot = pd.read_parquet('benchmarks/data/emotion/fewshot.parquet')"
   ]
  },
  {
   "cell_type": "code",
   "execution_count": null,
   "id": "018e4d4d",
   "metadata": {},
   "outputs": [],
   "source": [
    "map_dict = {'A': 'fear',\n",
    "'B': 'anger',\n",
    "'C': 'joy',\n",
    "'D': 'sadness',\n",
    "'E': 'love',\n",
    "'F': 'surprise'}"
   ]
  },
  {
   "cell_type": "code",
   "execution_count": null,
   "id": "f201f665",
   "metadata": {},
   "outputs": [],
   "source": [
    "df_emotion = pd.DataFrame(json_data).reset_index(drop=True)"
   ]
  },
  {
   "cell_type": "code",
   "execution_count": null,
   "id": "6ac27db8",
   "metadata": {},
   "outputs": [],
   "source": [
    "df_emotion.labels = df_emotion.labels.map(map_dict)"
   ]
  },
  {
   "cell_type": "code",
   "execution_count": null,
   "id": "7bf31f02",
   "metadata": {},
   "outputs": [],
   "source": [
    "df_emotion.columns = ['text','label','prompts']"
   ]
  },
  {
   "cell_type": "markdown",
   "id": "f88b8a0d",
   "metadata": {},
   "source": [
    "df_emotion.to_csv('benchmarks/data/emotion/test.csv', index=False)"
   ]
  },
  {
   "cell_type": "code",
   "execution_count": null,
   "id": "18575636",
   "metadata": {},
   "outputs": [],
   "source": [
    "df_dair_train = pd.read_csv('benchmarks/data/emotion/dair_ai_emotion_train.csv')"
   ]
  },
  {
   "cell_type": "code",
   "execution_count": null,
   "id": "01b55949",
   "metadata": {},
   "outputs": [],
   "source": [
    "emo_map = {0:'sadness', 1:'joy',2:'love',3:'anger',4:'fear',5:'surprise'}"
   ]
  },
  {
   "cell_type": "code",
   "execution_count": null,
   "id": "41e4cef4",
   "metadata": {},
   "outputs": [],
   "source": [
    "df_dair_train.label = df_dair_train.label.map(emo_map)"
   ]
  },
  {
   "cell_type": "code",
   "execution_count": null,
   "id": "50be760b",
   "metadata": {},
   "outputs": [],
   "source": [
    "df_dair_train.label.unique()"
   ]
  },
  {
   "cell_type": "code",
   "execution_count": null,
   "id": "19bb8b48",
   "metadata": {},
   "outputs": [],
   "source": [
    "df_dair_test = pd.read_csv('benchmarks/data/emotion/dair_ai_emotion_test.csv')"
   ]
  },
  {
   "cell_type": "code",
   "execution_count": null,
   "id": "fb150a2a",
   "metadata": {},
   "outputs": [],
   "source": [
    "df_dair = pd.concat([df_dair_train])"
   ]
  },
  {
   "cell_type": "code",
   "execution_count": null,
   "id": "87c002b4",
   "metadata": {},
   "outputs": [],
   "source": [
    "df_dair = df_dair[~df_dair.text.isin(df_emotion.text.unique())]"
   ]
  },
  {
   "cell_type": "code",
   "execution_count": null,
   "id": "2a470c73",
   "metadata": {},
   "outputs": [],
   "source": [
    "df_dair.label.unique()"
   ]
  },
  {
   "cell_type": "code",
   "execution_count": null,
   "id": "9e970c27",
   "metadata": {},
   "outputs": [],
   "source": [
    "df_fewshot = df_dair.groupby('label').sample(30, random_state=456)"
   ]
  },
  {
   "cell_type": "code",
   "execution_count": null,
   "id": "455af0d5",
   "metadata": {},
   "outputs": [],
   "source": [
    "df_fewshot.to_csv('benchmarks/data/emotion/fewshot.csv', index=False)"
   ]
  },
  {
   "cell_type": "code",
   "execution_count": null,
   "id": "32549c66",
   "metadata": {},
   "outputs": [],
   "source": [
    "df_fewshot"
   ]
  },
  {
   "cell_type": "markdown",
   "id": "0eb1ca60",
   "metadata": {},
   "source": [
    "df_fewshot = df_emotion.groupby('labels').sample(10, random_state=123)[['context','labels']]\n",
    "\n",
    "df_fewshot.columns = ['text','label']\n",
    "\n",
    "df_fewshot.label = df_fewshot.label.map(map_dict)\n",
    "\n",
    "df_fewshot.to_csv('benchmarks/data/emotion/fewshot.csv', index=False)"
   ]
  },
  {
   "cell_type": "code",
   "execution_count": null,
   "id": "9b3e0df0",
   "metadata": {},
   "outputs": [],
   "source": [
    "df_test = df_emotion[~df_emotion.context.isin(df_fewshot.text.unique())].reset_index(drop=True)"
   ]
  },
  {
   "cell_type": "code",
   "execution_count": null,
   "id": "b5f998aa",
   "metadata": {},
   "outputs": [],
   "source": [
    "df_test.columns = ['text','label','prompts']"
   ]
  },
  {
   "cell_type": "code",
   "execution_count": null,
   "id": "dfbca42a",
   "metadata": {},
   "outputs": [],
   "source": [
    "df_test.to_csv('benchmarks/data/emotion/test.csv', index=False)"
   ]
  },
  {
   "cell_type": "code",
   "execution_count": null,
   "id": "70e48bd4",
   "metadata": {},
   "outputs": [],
   "source": []
  },
  {
   "cell_type": "code",
   "execution_count": null,
   "id": "a7b89ec7",
   "metadata": {},
   "outputs": [],
   "source": []
  },
  {
   "cell_type": "markdown",
   "id": "84d1f9ac",
   "metadata": {},
   "source": [
    "### CARDS"
   ]
  },
  {
   "cell_type": "code",
   "execution_count": null,
   "id": "e8e0c763",
   "metadata": {},
   "outputs": [],
   "source": [
    "df_cards_fewshot = pd.read_csv('data/cards/cards_fewshot_file.csv')"
   ]
  },
  {
   "cell_type": "code",
   "execution_count": null,
   "id": "1a909de3",
   "metadata": {},
   "outputs": [],
   "source": [
    "df_cards_fewshot.claim = df_cards_fewshot.claim.str[:3]"
   ]
  },
  {
   "cell_type": "code",
   "execution_count": null,
   "id": "10ec3606",
   "metadata": {},
   "outputs": [],
   "source": [
    "df_full_test = pd.read_csv('data/cards/original_test.csv')"
   ]
  },
  {
   "cell_type": "code",
   "execution_count": null,
   "id": "e4e17fce",
   "metadata": {},
   "outputs": [],
   "source": [
    "df_cards_fewshot_nodup = df_cards_fewshot.drop_duplicates(subset=['claim'])"
   ]
  },
  {
   "cell_type": "code",
   "execution_count": null,
   "id": "ca067e64",
   "metadata": {},
   "outputs": [],
   "source": [
    "df_cards_fewshot_nodup"
   ]
  },
  {
   "cell_type": "code",
   "execution_count": null,
   "id": "a678ec5e",
   "metadata": {},
   "outputs": [],
   "source": []
  },
  {
   "cell_type": "code",
   "execution_count": null,
   "id": "822d3bdc",
   "metadata": {},
   "outputs": [],
   "source": [
    "df_merged = df_full_test.merge(df_cards_fewshot_nodup.drop(columns=['text']), on='claim')"
   ]
  },
  {
   "cell_type": "code",
   "execution_count": null,
   "id": "031506e5",
   "metadata": {},
   "outputs": [],
   "source": [
    "df_merged.subsubclaim.unique()"
   ]
  },
  {
   "cell_type": "code",
   "execution_count": null,
   "id": "c5ba62cc",
   "metadata": {},
   "outputs": [],
   "source": [
    "df_merged"
   ]
  },
  {
   "cell_type": "code",
   "execution_count": null,
   "id": "1d84cd13",
   "metadata": {},
   "outputs": [],
   "source": [
    "df_full_test"
   ]
  },
  {
   "cell_type": "code",
   "execution_count": null,
   "id": "04eda51a",
   "metadata": {},
   "outputs": [],
   "source": []
  },
  {
   "cell_type": "code",
   "execution_count": null,
   "id": "61df464e",
   "metadata": {},
   "outputs": [],
   "source": []
  },
  {
   "cell_type": "markdown",
   "id": "a991f021",
   "metadata": {},
   "source": [
    "### caseHOLD"
   ]
  },
  {
   "cell_type": "code",
   "execution_count": null,
   "id": "2188a390",
   "metadata": {},
   "outputs": [],
   "source": [
    "from datasets import load_dataset \n",
    "dataset = load_dataset(\"lex_glue\", \"case_hold\")\n"
   ]
  },
  {
   "cell_type": "code",
   "execution_count": null,
   "id": "b6377e63",
   "metadata": {},
   "outputs": [],
   "source": [
    "df_train = dataset['train'].to_pandas()"
   ]
  },
  {
   "cell_type": "code",
   "execution_count": null,
   "id": "45c3ef1a",
   "metadata": {},
   "outputs": [],
   "source": [
    "def modify_data(context, endings):\n",
    "    categories = ''\n",
    "    \n",
    "    for i,end in enumerate(endings):\n",
    "        t = f'Index {i}: {end}\\n'\n",
    "        categories += t\n",
    "    \n",
    "    return 'Context:\\n' + context + '\\n\\n' + 'Holdings List:\\n' + categories"
   ]
  },
  {
   "cell_type": "code",
   "execution_count": null,
   "id": "0ea03a31",
   "metadata": {},
   "outputs": [],
   "source": [
    "df_train['text'] = df_train.progress_apply(lambda row: modify_data(row['context'], row['endings']), axis=1)\n"
   ]
  },
  {
   "cell_type": "code",
   "execution_count": null,
   "id": "0304d257",
   "metadata": {},
   "outputs": [],
   "source": [
    "df_fewshot = df_train.sample(50, random_state=123)"
   ]
  },
  {
   "cell_type": "code",
   "execution_count": null,
   "id": "ffefd7be",
   "metadata": {},
   "outputs": [],
   "source": [
    "df_fewshot.to_csv('data/casehold/fewshot.csv', index=False)"
   ]
  },
  {
   "cell_type": "code",
   "execution_count": null,
   "id": "bc10bf1b",
   "metadata": {},
   "outputs": [],
   "source": [
    "df_test = dataset['test'].to_pandas()"
   ]
  },
  {
   "cell_type": "code",
   "execution_count": null,
   "id": "d88299a2",
   "metadata": {},
   "outputs": [],
   "source": [
    "df_test['text'] = df_test.progress_apply(lambda row: modify_data(row['context'], row['endings']), axis=1)\n"
   ]
  },
  {
   "cell_type": "code",
   "execution_count": null,
   "id": "bc5c1683",
   "metadata": {},
   "outputs": [],
   "source": [
    "df_test.to_csv('data/casehold/test.csv', index=False)"
   ]
  },
  {
   "cell_type": "code",
   "execution_count": null,
   "id": "aa851706",
   "metadata": {},
   "outputs": [],
   "source": []
  },
  {
   "cell_type": "code",
   "execution_count": null,
   "id": "3db12c02",
   "metadata": {},
   "outputs": [],
   "source": []
  },
  {
   "cell_type": "code",
   "execution_count": null,
   "id": "e5b9852c",
   "metadata": {},
   "outputs": [],
   "source": []
  },
  {
   "cell_type": "code",
   "execution_count": null,
   "id": "a0895c34",
   "metadata": {},
   "outputs": [],
   "source": [
    "print(df_train.text[0])"
   ]
  },
  {
   "cell_type": "code",
   "execution_count": null,
   "id": "b6ef673a",
   "metadata": {},
   "outputs": [],
   "source": [
    "context = \"\"\"Drapeau’s cohorts, the cohort would be a “victim” of making the bomb. Further, firebombs are inherently dangerous. There is no peaceful purpose for making a bomb. Felony offenses that involve explosives qualify as “violent crimes” for purposes of enhancing the sentences of career offenders. See 18 U.S.C. § 924(e)(2)(B)(ii) (defining a “violent felony” as: “any crime punishable by imprisonment for a term exceeding one year ... that ... involves use of explosives”). Courts have found possession of a'bomb to be a crime of violence based on the lack of a nonviolent purpose for a bomb and the fact that, by its very nature, there is a substantial risk that the bomb would be used against the person or property of another. See United States v. Newman, 125 F.3d 863 (10th Cir.1997) (unpublished) (<HOLDING>); United States v. Dodge, 846 F.Supp. 181,\"\"\""
   ]
  },
  {
   "cell_type": "code",
   "execution_count": null,
   "id": "58752955",
   "metadata": {},
   "outputs": [],
   "source": [
    "print(modify_data(context, endings))"
   ]
  },
  {
   "cell_type": "code",
   "execution_count": null,
   "id": "f4317fbe",
   "metadata": {},
   "outputs": [],
   "source": [
    "endings = ['holding that possession of a pipe bomb is a crime of violence for purposes of 18 usc  3142f1',\n",
    "'holding that bank robbery by force and violence or intimidation under 18 usc  2113a is a crime of violence',\n",
    "'holding that sexual assault of a child qualified as crime of violence under 18 usc  16',\n",
    "'holding for the purposes of 18 usc  924e that being a felon in possession of a firearm is not a violent felony as defined in 18 usc  924e2b',\n",
    "'holding that a court must only look to the statutory definition not the underlying circumstances of the crime to determine whether a given offense is by its nature a crime of violence for purposes of 18 usc  16']"
   ]
  },
  {
   "cell_type": "code",
   "execution_count": null,
   "id": "7b9e4bef",
   "metadata": {},
   "outputs": [],
   "source": [
    "df_train.label[0]"
   ]
  },
  {
   "cell_type": "code",
   "execution_count": null,
   "id": "dbfe9863",
   "metadata": {},
   "outputs": [],
   "source": [
    "(df_train.context)[0]"
   ]
  },
  {
   "cell_type": "code",
   "execution_count": null,
   "id": "ede9c6f2",
   "metadata": {},
   "outputs": [],
   "source": []
  },
  {
   "cell_type": "code",
   "execution_count": null,
   "id": "1dfe6bd0",
   "metadata": {},
   "outputs": [],
   "source": []
  },
  {
   "cell_type": "code",
   "execution_count": null,
   "id": "0d8732f5",
   "metadata": {},
   "outputs": [],
   "source": []
  },
  {
   "cell_type": "code",
   "execution_count": null,
   "id": "76b70970",
   "metadata": {},
   "outputs": [],
   "source": []
  },
  {
   "cell_type": "markdown",
   "id": "b210ac3f",
   "metadata": {},
   "source": [
    "### CAP"
   ]
  },
  {
   "cell_type": "code",
   "execution_count": null,
   "id": "925cac9a",
   "metadata": {},
   "outputs": [],
   "source": [
    "df = pd.read_csv('/home/projects/cap/usa_sotu_speeches/US-Exec_SOTU_2023.csv')"
   ]
  },
  {
   "cell_type": "code",
   "execution_count": null,
   "id": "c589697a",
   "metadata": {},
   "outputs": [],
   "source": [
    "df_categories = pd.read_csv('/home/projects/cap/cap_categories.csv')"
   ]
  },
  {
   "cell_type": "code",
   "execution_count": null,
   "id": "121eeff0",
   "metadata": {},
   "outputs": [],
   "source": [
    "df = df.merge(df_categories, left_on='majortopic', right_on='mcat_id')"
   ]
  },
  {
   "cell_type": "code",
   "execution_count": null,
   "id": "8af60fa2",
   "metadata": {},
   "outputs": [],
   "source": [
    "df = df[(~df.description.isna()) & (~df.mcat_label.isna())]"
   ]
  },
  {
   "cell_type": "code",
   "execution_count": null,
   "id": "5f89363b",
   "metadata": {},
   "outputs": [],
   "source": [
    "df = df[['description','mcat_label']]"
   ]
  },
  {
   "cell_type": "code",
   "execution_count": null,
   "id": "318701a8",
   "metadata": {},
   "outputs": [],
   "source": [
    "df.columns = ['text', 'label']"
   ]
  },
  {
   "cell_type": "code",
   "execution_count": null,
   "id": "9aaa40aa",
   "metadata": {},
   "outputs": [],
   "source": [
    "from sklearn.model_selection import train_test_split\n",
    "\n",
    "# Assuming you have a DataFrame `df` with columns 'text' and 'label'\n",
    "\n",
    "X = df['text']  # Features\n",
    "y = df['label']  # Labels\n",
    "\n",
    "# Perform stratified random split\n",
    "X_train, X_test, y_train, y_test = train_test_split(X, y, test_size=0.025, stratify=y, random_state=42)\n",
    "\n",
    "# Create new DataFrames for training and testing\n",
    "train_df = pd.DataFrame({'text': X_train, 'label': y_train})\n",
    "test_df = pd.DataFrame({'text': X_test, 'label': y_test})\n",
    "\n",
    "# Return the training and testing DataFrames\n"
   ]
  },
  {
   "cell_type": "code",
   "execution_count": null,
   "id": "054e8f52",
   "metadata": {},
   "outputs": [],
   "source": [
    "df_fewshot = train_df.groupby('label').sample(30, random_state=456)\n"
   ]
  },
  {
   "cell_type": "code",
   "execution_count": null,
   "id": "fd980ccf",
   "metadata": {},
   "outputs": [],
   "source": [
    "df_fewshot.to_csv('data/cap/fewshot.csv',index=False)"
   ]
  },
  {
   "cell_type": "code",
   "execution_count": null,
   "id": "665b3b14",
   "metadata": {},
   "outputs": [],
   "source": [
    "test_df.to_csv('data/cap/test.csv', index=False)\n",
    "\n",
    "# df_fewshot = train_df.groupby('label').sample(50)\n",
    "\n",
    "# df_fewshot.sample(frac=1).to_csv('data/cap/fewshot.csv', index=False)"
   ]
  },
  {
   "cell_type": "markdown",
   "id": "16a611f3",
   "metadata": {},
   "source": [
    "### Climate\n",
    "- https://dataverse.harvard.edu/dataset.xhtml?persistentId=doi:10.7910/DVN/T67XV0"
   ]
  },
  {
   "cell_type": "code",
   "execution_count": null,
   "id": "a8124fed",
   "metadata": {},
   "outputs": [],
   "source": [
    "df_climate = pd.read_csv('data/climate/climate_training_data_SVM.csv', dtype=str)"
   ]
  },
  {
   "cell_type": "code",
   "execution_count": null,
   "id": "e2390801",
   "metadata": {},
   "outputs": [],
   "source": [
    "df_climate = df_climate[['Unnamed: 9', ' Opinion']]"
   ]
  },
  {
   "cell_type": "code",
   "execution_count": null,
   "id": "5fae0754",
   "metadata": {},
   "outputs": [],
   "source": [
    "df_climate.columns = ['text','label']"
   ]
  },
  {
   "cell_type": "code",
   "execution_count": null,
   "id": "4199c37a",
   "metadata": {},
   "outputs": [],
   "source": [
    "df_climate.label.unique()"
   ]
  },
  {
   "cell_type": "code",
   "execution_count": null,
   "id": "85195cfc",
   "metadata": {},
   "outputs": [],
   "source": [
    "df_climate = df_climate.dropna()"
   ]
  },
  {
   "cell_type": "code",
   "execution_count": null,
   "id": "1710612a",
   "metadata": {},
   "outputs": [],
   "source": [
    "df_climate = df_climate[df_climate.label != 'NONE']"
   ]
  },
  {
   "cell_type": "code",
   "execution_count": null,
   "id": "2655993d",
   "metadata": {},
   "outputs": [],
   "source": [
    "df_climate"
   ]
  },
  {
   "cell_type": "code",
   "execution_count": null,
   "id": "b80f22ff",
   "metadata": {},
   "outputs": [],
   "source": [
    "from sklearn.model_selection import train_test_split\n",
    "\n",
    "# Assuming you have a DataFrame `df` with columns 'text' and 'label'\n",
    "\n",
    "X = df_climate['text']  # Features\n",
    "y = df_climate['label']  # Labels\n",
    "\n",
    "# Perform stratified random split\n",
    "X_train, X_test, y_train, y_test = train_test_split(X, y, test_size=0.05, stratify=y, random_state=42)\n",
    "\n",
    "# Create new DataFrames for training and testing\n",
    "train_df = pd.DataFrame({'text': X_train, 'label': y_train})\n",
    "test_df = pd.DataFrame({'text': X_test, 'label': y_test})\n",
    "\n",
    "# Return the training and testing DataFrames\n"
   ]
  },
  {
   "cell_type": "code",
   "execution_count": null,
   "id": "169d491e",
   "metadata": {},
   "outputs": [],
   "source": [
    "test_df.label.value_counts()"
   ]
  },
  {
   "cell_type": "code",
   "execution_count": null,
   "id": "f3013371",
   "metadata": {},
   "outputs": [],
   "source": [
    "test_df.to_csv('data/climate/test.csv', index=False)"
   ]
  },
  {
   "cell_type": "code",
   "execution_count": null,
   "id": "39948883",
   "metadata": {},
   "outputs": [],
   "source": [
    "df_fewshot = train_df.groupby('label').sample(50, random_state=123)"
   ]
  },
  {
   "cell_type": "code",
   "execution_count": null,
   "id": "1a6c6272",
   "metadata": {},
   "outputs": [],
   "source": [
    "df_fewshot.sample(frac=1).to_csv('data/climate/fewshot.csv', index=False)"
   ]
  },
  {
   "cell_type": "code",
   "execution_count": null,
   "id": "a5d2ea47",
   "metadata": {},
   "outputs": [],
   "source": []
  },
  {
   "cell_type": "code",
   "execution_count": null,
   "id": "1df45bc7",
   "metadata": {},
   "outputs": [],
   "source": [
    "df_climate[df_climate.label == 2].sample(1)['text'].values[0]"
   ]
  },
  {
   "cell_type": "code",
   "execution_count": null,
   "id": "f389de07",
   "metadata": {},
   "outputs": [],
   "source": []
  },
  {
   "cell_type": "markdown",
   "id": "9dacc1c9",
   "metadata": {},
   "source": [
    "### Amazon Massive\n",
    "\n",
    "- https://github.com/alexa/massive\n",
    "- https://huggingface.co/datasets/AmazonScience/massive/viewer/en-US/test"
   ]
  },
  {
   "cell_type": "code",
   "execution_count": null,
   "id": "0118763e",
   "metadata": {},
   "outputs": [],
   "source": [
    "df = pd.read_json('data/amazon_massive/en-US.jsonl', lines=True)"
   ]
  },
  {
   "cell_type": "code",
   "execution_count": null,
   "id": "5d5c7806",
   "metadata": {},
   "outputs": [],
   "source": [
    "df_train = df[df.partition == 'train']"
   ]
  },
  {
   "cell_type": "code",
   "execution_count": null,
   "id": "c358edb6",
   "metadata": {},
   "outputs": [],
   "source": [
    "df_test = df[df.partition == 'test']"
   ]
  },
  {
   "cell_type": "code",
   "execution_count": null,
   "id": "1017635a",
   "metadata": {},
   "outputs": [],
   "source": [
    "\n",
    "def sample_by_intent(df, intent_column, sample_size, random_state=123):\n",
    "    \"\"\"\n",
    "    Sample rows from a DataFrame based on the 'intent' column.\n",
    "    If the number of rows for a particular intent is less than the sample size,\n",
    "    all rows for that intent are included in the sample.\n",
    "\n",
    "    Args:\n",
    "        df (pandas.DataFrame): The DataFrame to sample from.\n",
    "        intent_column (str): The column containing the intent values.\n",
    "        sample_size (int): The desired sample size for each intent.\n",
    "        random_state (int, optional): Random state for reproducibility. Default is 123.\n",
    "\n",
    "    Returns:\n",
    "        pandas.DataFrame: The sampled DataFrame.\n",
    "    \"\"\"\n",
    "    sampled_rows = []\n",
    "    for intent, group_df in df.groupby(intent_column):\n",
    "        if len(group_df) <= sample_size:\n",
    "            sampled_rows.extend(group_df.index)\n",
    "        else:\n",
    "            sampled_rows.extend(group_df.sample(sample_size, random_state=random_state).index)\n",
    "    return df.loc[sampled_rows]\n",
    "\n"
   ]
  },
  {
   "cell_type": "code",
   "execution_count": null,
   "id": "166f0c34",
   "metadata": {},
   "outputs": [],
   "source": [
    "\n",
    "# Example usage:\n",
    "sampled_df = sample_by_intent(df_train, 'intent', 30, random_state=123)\n"
   ]
  },
  {
   "cell_type": "code",
   "execution_count": null,
   "id": "5163bf35",
   "metadata": {},
   "outputs": [],
   "source": [
    "sampled_df = sampled_df[['utt','intent']]"
   ]
  },
  {
   "cell_type": "code",
   "execution_count": null,
   "id": "2dd98a8c",
   "metadata": {},
   "outputs": [],
   "source": [
    "sampled_df.columns = ['text','label']"
   ]
  },
  {
   "cell_type": "code",
   "execution_count": null,
   "id": "40ea85e3",
   "metadata": {},
   "outputs": [],
   "source": [
    "sampled_df.to_csv('data/amazon_massive/fewshot.csv', index=False)"
   ]
  },
  {
   "cell_type": "code",
   "execution_count": null,
   "id": "3c5871c3",
   "metadata": {},
   "outputs": [],
   "source": [
    "df_test = df_test[['utt','intent']]"
   ]
  },
  {
   "cell_type": "code",
   "execution_count": null,
   "id": "c66d6b85",
   "metadata": {},
   "outputs": [],
   "source": [
    "df_test.columns = ['text','label']"
   ]
  },
  {
   "cell_type": "code",
   "execution_count": null,
   "id": "0f4c7c02",
   "metadata": {},
   "outputs": [],
   "source": [
    "df_test.to_csv('data/amazon_massive/test.csv', index=False)"
   ]
  },
  {
   "cell_type": "code",
   "execution_count": null,
   "id": "2f0f860f",
   "metadata": {},
   "outputs": [],
   "source": [
    "df_train.intent.value_counts()"
   ]
  },
  {
   "cell_type": "code",
   "execution_count": null,
   "id": "a94032f3",
   "metadata": {},
   "outputs": [],
   "source": [
    "df_test.intent.value_counts()"
   ]
  },
  {
   "cell_type": "code",
   "execution_count": null,
   "id": "d4c741da",
   "metadata": {},
   "outputs": [],
   "source": [
    "df_test[df_test.scenario == 'takeaway'].sort_values('intent')"
   ]
  },
  {
   "cell_type": "code",
   "execution_count": null,
   "id": "2fd9e00e",
   "metadata": {},
   "outputs": [],
   "source": []
  },
  {
   "cell_type": "code",
   "execution_count": null,
   "id": "ef0e44eb",
   "metadata": {},
   "outputs": [],
   "source": []
  },
  {
   "cell_type": "markdown",
   "id": "1610f81b",
   "metadata": {},
   "source": [
    "### Banking 77\n",
    "\n",
    "- Download the data from the below url\n",
    "https://github.com/PolyAI-LDN/task-specific-datasets/tree/master/banking_data"
   ]
  },
  {
   "cell_type": "code",
   "execution_count": null,
   "id": "712a36c0",
   "metadata": {},
   "outputs": [],
   "source": [
    "df_train = pd.read_csv('data/banking77/full_train.csv')\n",
    "df_test_full = pd.read_csv('data/banking77/full_test.csv')"
   ]
  },
  {
   "cell_type": "code",
   "execution_count": null,
   "id": "dc9d4126",
   "metadata": {},
   "outputs": [],
   "source": [
    "df_fewshot = df_train.groupby('category').sample(30, random_state=123).groupby('category').sample(30, random_state=123)\n",
    "\n"
   ]
  },
  {
   "cell_type": "code",
   "execution_count": null,
   "id": "0f7c62f6",
   "metadata": {},
   "outputs": [],
   "source": [
    "df_fewshot.columns = ['text','label']"
   ]
  },
  {
   "cell_type": "code",
   "execution_count": null,
   "id": "d30d1842",
   "metadata": {},
   "outputs": [],
   "source": [
    "df_fewshot.to_csv('data/banking77/fewshot.csv', index=False)"
   ]
  },
  {
   "cell_type": "code",
   "execution_count": null,
   "id": "b8fe1386",
   "metadata": {},
   "outputs": [],
   "source": [
    "df_test_full.columns = ['text','label']"
   ]
  },
  {
   "cell_type": "code",
   "execution_count": null,
   "id": "84083006",
   "metadata": {},
   "outputs": [],
   "source": [
    "from sklearn.model_selection import train_test_split\n",
    "\n",
    "X = df_test_full['text']  # Features\n",
    "y = df_test_full['label']  # Labels\n",
    "\n",
    "# Perform stratified random split\n",
    "X_train, X_test, y_train, y_test = train_test_split(X, y, test_size=0.15, stratify=y, random_state=42)\n",
    "\n",
    "# Create new DataFrames for training and testing\n",
    "df_test_ = pd.DataFrame({'text': X_test, 'label': y_test})"
   ]
  },
  {
   "cell_type": "code",
   "execution_count": null,
   "id": "ba3a80c9",
   "metadata": {},
   "outputs": [],
   "source": [
    "df_test_"
   ]
  },
  {
   "cell_type": "code",
   "execution_count": null,
   "id": "7319301a",
   "metadata": {},
   "outputs": [],
   "source": [
    "df_test_.to_csv('data/banking77/test.csv', index=False)"
   ]
  },
  {
   "cell_type": "code",
   "execution_count": null,
   "id": "5b389fda",
   "metadata": {},
   "outputs": [],
   "source": [
    "df_test.category.unique()"
   ]
  },
  {
   "cell_type": "code",
   "execution_count": null,
   "id": "0ec4d94d",
   "metadata": {},
   "outputs": [],
   "source": [
    "d = pd.read_csv('data/banking77/test.csv')"
   ]
  },
  {
   "cell_type": "code",
   "execution_count": null,
   "id": "388fac5d",
   "metadata": {},
   "outputs": [],
   "source": [
    "d"
   ]
  },
  {
   "cell_type": "markdown",
   "id": "08127432",
   "metadata": {},
   "source": [
    "### Newsgroup"
   ]
  },
  {
   "cell_type": "code",
   "execution_count": null,
   "id": "40d2d2ac",
   "metadata": {
    "scrolled": true
   },
   "outputs": [],
   "source": [
    "dataset = load_dataset(\"SetFit/20_newsgroups\")"
   ]
  },
  {
   "cell_type": "code",
   "execution_count": null,
   "id": "0bc0f40c",
   "metadata": {},
   "outputs": [],
   "source": [
    "dataset['test'].to_csv('data/newsgroup/full_test.csv', index=False)"
   ]
  },
  {
   "cell_type": "code",
   "execution_count": null,
   "id": "b094c2d5",
   "metadata": {},
   "outputs": [],
   "source": [
    "dataset['train'].to_csv('data/newsgroup/train.csv', index=False)"
   ]
  },
  {
   "cell_type": "code",
   "execution_count": null,
   "id": "2055ad43",
   "metadata": {},
   "outputs": [],
   "source": [
    "df_train = pd.read_csv('data/newsgroup/train.csv')"
   ]
  },
  {
   "cell_type": "code",
   "execution_count": null,
   "id": "0251affc",
   "metadata": {},
   "outputs": [],
   "source": [
    "df_test = pd.read_csv('data/newsgroup/test.csv')"
   ]
  },
  {
   "cell_type": "code",
   "execution_count": null,
   "id": "bccd13bd",
   "metadata": {},
   "outputs": [],
   "source": [
    "df_test"
   ]
  },
  {
   "cell_type": "code",
   "execution_count": null,
   "id": "891cdc6e",
   "metadata": {},
   "outputs": [],
   "source": []
  },
  {
   "cell_type": "code",
   "execution_count": null,
   "id": "5c50ee68",
   "metadata": {},
   "outputs": [],
   "source": [
    "df_train = df_train.dropna()"
   ]
  },
  {
   "cell_type": "code",
   "execution_count": null,
   "id": "6fcf2b7d",
   "metadata": {},
   "outputs": [],
   "source": [
    "df_train.label.value_counts()"
   ]
  },
  {
   "cell_type": "code",
   "execution_count": null,
   "id": "3a1c4a29",
   "metadata": {},
   "outputs": [],
   "source": [
    "df_fewshot = df_train.groupby('label_text').sample(50, random_state=123)"
   ]
  },
  {
   "cell_type": "code",
   "execution_count": null,
   "id": "bc05487a",
   "metadata": {},
   "outputs": [],
   "source": [
    "df_fewshot.to_csv('data/newsgroup/fewshot.csv', index=False)"
   ]
  },
  {
   "cell_type": "markdown",
   "id": "a36d7b28",
   "metadata": {},
   "source": [
    "### Emotion"
   ]
  },
  {
   "cell_type": "code",
   "execution_count": null,
   "id": "caac4423",
   "metadata": {},
   "outputs": [],
   "source": [
    "from datasets import load_dataset\n",
    "\n",
    "dataset = load_dataset(\"dair-ai/emotion\")"
   ]
  },
  {
   "cell_type": "code",
   "execution_count": null,
   "id": "ba58d90a",
   "metadata": {},
   "outputs": [],
   "source": [
    "dataset['test'].to_csv('data/emotion/dair_ai_emotion_test.csv', index=False)"
   ]
  },
  {
   "cell_type": "code",
   "execution_count": null,
   "id": "ac97fb35",
   "metadata": {},
   "outputs": [],
   "source": [
    "dataset['train'].to_csv('data/emotion/dair_ai_emotion_train.csv', index=False)"
   ]
  },
  {
   "cell_type": "code",
   "execution_count": null,
   "id": "25859001",
   "metadata": {},
   "outputs": [],
   "source": [
    "df_emo = pd.read_csv('data/emotion/dair_ai_emotion_test.csv')"
   ]
  },
  {
   "cell_type": "code",
   "execution_count": null,
   "id": "dcf066f5",
   "metadata": {},
   "outputs": [],
   "source": [
    "df_emo.label.unique()"
   ]
  },
  {
   "cell_type": "code",
   "execution_count": null,
   "id": "e4313c93",
   "metadata": {},
   "outputs": [],
   "source": [
    "emo_map = {0:'sadness', 1:'joy',2:'love',3:'anger',4:'fear','5':'surprise'}"
   ]
  },
  {
   "cell_type": "code",
   "execution_count": null,
   "id": "8b5b4da4",
   "metadata": {},
   "outputs": [],
   "source": [
    "df_emo['label'] = df_emo.label.map(emo_map)"
   ]
  },
  {
   "cell_type": "code",
   "execution_count": null,
   "id": "6732bfcf",
   "metadata": {},
   "outputs": [],
   "source": [
    "df_emo.to_csv('data/emotion/dair_ai_emotion_test.csv', index=False)"
   ]
  },
  {
   "cell_type": "code",
   "execution_count": null,
   "id": "20c04a9f",
   "metadata": {},
   "outputs": [],
   "source": [
    "df_emo_train = pd.read_csv('data/emotion/dair_ai_emotion_train.csv')"
   ]
  },
  {
   "cell_type": "code",
   "execution_count": null,
   "id": "0019c749",
   "metadata": {},
   "outputs": [],
   "source": [
    "df_emo_train.label = df_emo_train.label.map(emo_map)"
   ]
  },
  {
   "cell_type": "code",
   "execution_count": null,
   "id": "e18899be",
   "metadata": {},
   "outputs": [],
   "source": [
    "df_emo_train = df_emo_train.groupby('label').sample(50, random_state=123)"
   ]
  },
  {
   "cell_type": "code",
   "execution_count": null,
   "id": "eb84da19",
   "metadata": {},
   "outputs": [],
   "source": [
    "df_emo_train.to_csv('data/emotion/dair_ai_emotion_fewshot.csv', index=False)"
   ]
  },
  {
   "cell_type": "code",
   "execution_count": null,
   "id": "85425473",
   "metadata": {},
   "outputs": [],
   "source": []
  },
  {
   "cell_type": "code",
   "execution_count": null,
   "id": "4031b255",
   "metadata": {},
   "outputs": [],
   "source": []
  },
  {
   "cell_type": "code",
   "execution_count": null,
   "id": "718d56a2",
   "metadata": {},
   "outputs": [],
   "source": [
    "null = ''"
   ]
  },
  {
   "cell_type": "code",
   "execution_count": null,
   "id": "18b762ee",
   "metadata": {},
   "outputs": [],
   "source": [
    "{\"default\": {\"description\": \"Emotion is a dataset of English Twitter messages with six basic emotions: anger, fear, joy, love, sadness, and surprise. For more detailed information please refer to the paper.\\n\", \"citation\": \"@inproceedings{saravia-etal-2018-carer,\\n    title = \\\"{CARER}: Contextualized Affect Representations for Emotion Recognition\\\",\\n    author = \\\"Saravia, Elvis  and\\n      Liu, Hsien-Chi Toby  and\\n      Huang, Yen-Hao  and\\n      Wu, Junlin  and\\n      Chen, Yi-Shin\\\",\\n    booktitle = \\\"Proceedings of the 2018 Conference on Empirical Methods in Natural Language Processing\\\",\\n    month = oct # \\\"-\\\" # nov,\\n    year = \\\"2018\\\",\\n    address = \\\"Brussels, Belgium\\\",\\n    publisher = \\\"Association for Computational Linguistics\\\",\\n    url = \\\"https://www.aclweb.org/anthology/D18-1404\\\",\\n    doi = \\\"10.18653/v1/D18-1404\\\",\\n    pages = \\\"3687--3697\\\",\\n    abstract = \\\"Emotions are expressed in nuanced ways, which varies by collective or individual experiences, knowledge, and beliefs. Therefore, to understand emotion, as conveyed through text, a robust mechanism capable of capturing and modeling different linguistic nuances and phenomena is needed. We propose a semi-supervised, graph-based algorithm to produce rich structural descriptors which serve as the building blocks for constructing contextualized affect representations from text. The pattern-based representations are further enriched with word embeddings and evaluated through several emotion recognition tasks. Our experimental results demonstrate that the proposed method outperforms state-of-the-art techniques on emotion recognition tasks.\\\",\\n}\\n\", \"homepage\": \"https://github.com/dair-ai/emotion_dataset\", \"license\": \"\", \"features\": {\"text\": {\"dtype\": \"string\", \"id\": null, \"_type\": \"Value\"}, \"label\": {\"num_classes\": 6, \"names\": [\"sadness\", \"joy\", \"love\", \"anger\", \"fear\", \"surprise\"], \"names_file\": null, \"id\": null, \"_type\": \"ClassLabel\"}}, \"post_processed\": null, \"supervised_keys\": {\"input\": \"text\", \"output\": \"label\"}, \"task_templates\": [{\"task\": \"text-classification\", \"text_column\": \"text\", \"label_column\": \"label\", \"labels\": [\"anger\", \"fear\", \"joy\", \"love\", \"sadness\", \"surprise\"]}], \"builder_name\": \"emotion\", \"config_name\": \"default\", \"version\": {\"version_str\": \"0.0.0\", \"description\": null, \"major\": 0, \"minor\": 0, \"patch\": 0}, \"splits\": {\"train\": {\"name\": \"train\", \"num_bytes\": 1741541, \"num_examples\": 16000, \"dataset_name\": \"emotion\"}, \"validation\": {\"name\": \"validation\", \"num_bytes\": 214699, \"num_examples\": 2000, \"dataset_name\": \"emotion\"}, \"test\": {\"name\": \"test\", \"num_bytes\": 217177, \"num_examples\": 2000, \"dataset_name\": \"emotion\"}}, \"download_checksums\": {\"https://www.dropbox.com/s/1pzkadrvffbqw6o/train.txt?dl=1\": {\"num_bytes\": 1658616, \"checksum\": \"3ab03d945a6cb783d818ccd06dafd52d2ed8b4f62f0f85a09d7d11870865b190\"}, \"https://www.dropbox.com/s/2mzialpsgf9k5l3/val.txt?dl=1\": {\"num_bytes\": 204240, \"checksum\": \"34faaa31962fe63cdf5dbf6c132ef8ab166c640254ab991af78f3aea375e79ef\"}, \"https://www.dropbox.com/s/ikkqxfdbdec3fuj/test.txt?dl=1\": {\"num_bytes\": 206760, \"checksum\": \"60f531690d20127339e7f054edc299a82c627b5ec0dd5d552d53d544e0cfcc17\"}}, \"download_size\": 2069616, \"post_processing_size\": 'null', \"dataset_size\": 2173417, \"size_in_bytes\": 4243033}}"
   ]
  },
  {
   "cell_type": "code",
   "execution_count": null,
   "id": "11c4a099",
   "metadata": {},
   "outputs": [],
   "source": []
  }
 ],
 "metadata": {
  "kernelspec": {
   "display_name": "Python 3 (ipykernel)",
   "language": "python",
   "name": "python3"
  },
  "language_info": {
   "codemirror_mode": {
    "name": "ipython",
    "version": 3
   },
   "file_extension": ".py",
   "mimetype": "text/x-python",
   "name": "python",
   "nbconvert_exporter": "python",
   "pygments_lexer": "ipython3",
   "version": "3.10.6"
  }
 },
 "nbformat": 4,
 "nbformat_minor": 5
}
